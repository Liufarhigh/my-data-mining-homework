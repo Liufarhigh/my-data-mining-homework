{
 "cells": [
  {
   "cell_type": "code",
   "execution_count": 2,
   "id": "czech-payroll",
   "metadata": {},
   "outputs": [],
   "source": [
    "import pandas as pd\n",
    "import numpy as np"
   ]
  },
  {
   "cell_type": "code",
   "execution_count": 3,
   "id": "material-modern",
   "metadata": {},
   "outputs": [],
   "source": [
    "path = './datasets/oakland-crime-statistics-2011-to-2016/'\n",
    "data = pd.read_csv(path+'records-for-2015.csv', index_col=0)"
   ]
  },
  {
   "cell_type": "code",
   "execution_count": 4,
   "id": "forced-scottish",
   "metadata": {
    "scrolled": true
   },
   "outputs": [
    {
     "data": {
      "text/html": [
       "<div>\n",
       "<style scoped>\n",
       "    .dataframe tbody tr th:only-of-type {\n",
       "        vertical-align: middle;\n",
       "    }\n",
       "\n",
       "    .dataframe tbody tr th {\n",
       "        vertical-align: top;\n",
       "    }\n",
       "\n",
       "    .dataframe thead th {\n",
       "        text-align: right;\n",
       "    }\n",
       "</style>\n",
       "<table border=\"1\" class=\"dataframe\">\n",
       "  <thead>\n",
       "    <tr style=\"text-align: right;\">\n",
       "      <th></th>\n",
       "      <th>Create Time</th>\n",
       "      <th>Location</th>\n",
       "      <th>Area Id</th>\n",
       "      <th>Beat</th>\n",
       "      <th>Priority</th>\n",
       "      <th>Incident Type Id</th>\n",
       "      <th>Incident Type Description</th>\n",
       "      <th>Event Number</th>\n",
       "      <th>Closed Time</th>\n",
       "    </tr>\n",
       "    <tr>\n",
       "      <th>Agency</th>\n",
       "      <th></th>\n",
       "      <th></th>\n",
       "      <th></th>\n",
       "      <th></th>\n",
       "      <th></th>\n",
       "      <th></th>\n",
       "      <th></th>\n",
       "      <th></th>\n",
       "      <th></th>\n",
       "    </tr>\n",
       "  </thead>\n",
       "  <tbody>\n",
       "    <tr>\n",
       "      <th>OP</th>\n",
       "      <td>2015-01-01T00:01:59.000</td>\n",
       "      <td>S ELMHURST AV</td>\n",
       "      <td>P3</td>\n",
       "      <td>31Y</td>\n",
       "      <td>2</td>\n",
       "      <td>415</td>\n",
       "      <td>DISTURBING THE PEACE</td>\n",
       "      <td>LOP150101000003</td>\n",
       "      <td>2015-01-01T06:23:08.000</td>\n",
       "    </tr>\n",
       "    <tr>\n",
       "      <th>OP</th>\n",
       "      <td>2015-01-01T00:02:02.000</td>\n",
       "      <td>AV&amp;D ST</td>\n",
       "      <td>P3</td>\n",
       "      <td>32X</td>\n",
       "      <td>2</td>\n",
       "      <td>415GS</td>\n",
       "      <td>415 GUNSHOTS</td>\n",
       "      <td>LOP150101000007</td>\n",
       "      <td>2015-01-01T01:44:40.000</td>\n",
       "    </tr>\n",
       "    <tr>\n",
       "      <th>OP</th>\n",
       "      <td>2015-01-01T00:02:06.000</td>\n",
       "      <td>BANCROFT AV</td>\n",
       "      <td>P3</td>\n",
       "      <td>30Y</td>\n",
       "      <td>2</td>\n",
       "      <td>933R</td>\n",
       "      <td>ALARM-RINGER</td>\n",
       "      <td>LOP150101000004</td>\n",
       "      <td>2015-01-01T02:12:39.000</td>\n",
       "    </tr>\n",
       "    <tr>\n",
       "      <th>OP</th>\n",
       "      <td>2015-01-01T00:03:16.000</td>\n",
       "      <td>MACARTHUR BLVD</td>\n",
       "      <td>P3</td>\n",
       "      <td>30Y</td>\n",
       "      <td>2</td>\n",
       "      <td>415GS</td>\n",
       "      <td>415 GUNSHOTS</td>\n",
       "      <td>LOP150101000005</td>\n",
       "      <td>2015-01-01T01:53:08.000</td>\n",
       "    </tr>\n",
       "    <tr>\n",
       "      <th>OP</th>\n",
       "      <td>2015-01-01T00:03:45.000</td>\n",
       "      <td>ST&amp;ADELINE ST</td>\n",
       "      <td>P1</td>\n",
       "      <td>02X</td>\n",
       "      <td>2</td>\n",
       "      <td>415GS</td>\n",
       "      <td>415 GUNSHOTS</td>\n",
       "      <td>LOP150101000009</td>\n",
       "      <td>2015-01-01T00:37:09.000</td>\n",
       "    </tr>\n",
       "  </tbody>\n",
       "</table>\n",
       "</div>"
      ],
      "text/plain": [
       "                    Create Time             Location Area Id Beat  Priority  \\\n",
       "Agency                                                                        \n",
       "OP      2015-01-01T00:01:59.000     S ELMHURST AV         P3  31Y         2   \n",
       "OP      2015-01-01T00:02:02.000          AV&D ST          P3  32X         2   \n",
       "OP      2015-01-01T00:02:06.000      BANCROFT AV          P3  30Y         2   \n",
       "OP      2015-01-01T00:03:16.000   MACARTHUR BLVD          P3  30Y         2   \n",
       "OP      2015-01-01T00:03:45.000    ST&ADELINE ST          P1  02X         2   \n",
       "\n",
       "       Incident Type Id Incident Type Description     Event Number  \\\n",
       "Agency                                                               \n",
       "OP                  415      DISTURBING THE PEACE  LOP150101000003   \n",
       "OP                415GS              415 GUNSHOTS  LOP150101000007   \n",
       "OP                 933R              ALARM-RINGER  LOP150101000004   \n",
       "OP                415GS              415 GUNSHOTS  LOP150101000005   \n",
       "OP                415GS              415 GUNSHOTS  LOP150101000009   \n",
       "\n",
       "                    Closed Time  \n",
       "Agency                           \n",
       "OP      2015-01-01T06:23:08.000  \n",
       "OP      2015-01-01T01:44:40.000  \n",
       "OP      2015-01-01T02:12:39.000  \n",
       "OP      2015-01-01T01:53:08.000  \n",
       "OP      2015-01-01T00:37:09.000  "
      ]
     },
     "execution_count": 4,
     "metadata": {},
     "output_type": "execute_result"
    }
   ],
   "source": [
    "data.head()"
   ]
  },
  {
   "cell_type": "code",
   "execution_count": 5,
   "id": "invisible-albert",
   "metadata": {},
   "outputs": [
    {
     "data": {
      "text/plain": [
       "(192581, 9)"
      ]
     },
     "execution_count": 5,
     "metadata": {},
     "output_type": "execute_result"
    }
   ],
   "source": [
    "data.shape"
   ]
  },
  {
   "cell_type": "code",
   "execution_count": 6,
   "id": "velvet-disclosure",
   "metadata": {},
   "outputs": [
    {
     "data": {
      "text/plain": [
       "Create Time                  object\n",
       "Location                     object\n",
       "Area Id                      object\n",
       "Beat                         object\n",
       "Priority                      int64\n",
       "Incident Type Id             object\n",
       "Incident Type Description    object\n",
       "Event Number                 object\n",
       "Closed Time                  object\n",
       "dtype: object"
      ]
     },
     "execution_count": 6,
     "metadata": {},
     "output_type": "execute_result"
    }
   ],
   "source": [
    "data.dtypes"
   ]
  },
  {
   "cell_type": "code",
   "execution_count": 7,
   "id": "banner-trust",
   "metadata": {},
   "outputs": [
    {
     "data": {
      "text/plain": [
       "2015-04-18T13:52:06.000    3\n",
       "2015-10-30T17:38:37.000    2\n",
       "2015-04-13T16:19:45.000    2\n",
       "2015-04-12T16:33:32.000    2\n",
       "2015-07-16T21:48:30.000    2\n",
       "                          ..\n",
       "2015-08-03T00:21:20.000    1\n",
       "2015-04-20T22:01:00.000    1\n",
       "2015-05-09T00:53:59.000    1\n",
       "2015-11-13T23:41:33.000    1\n",
       "2015-09-17T07:41:47.000    1\n",
       "Name: Create Time, Length: 191944, dtype: int64"
      ]
     },
     "execution_count": 7,
     "metadata": {},
     "output_type": "execute_result"
    }
   ],
   "source": [
    "data['Create Time'].value_counts()"
   ]
  },
  {
   "cell_type": "code",
   "execution_count": 8,
   "id": "million-batman",
   "metadata": {},
   "outputs": [
    {
     "data": {
      "text/plain": [
       " INTERNATIONAL BLVD           3695\n",
       " AV&INTERNATIONAL BLVD        3106\n",
       " MACARTHUR BLVD               3105\n",
       " BROADWAY                     2407\n",
       " FOOTHILL BLVD                1753\n",
       "                              ... \n",
       "24TH HAVENSCOURT BLVD            1\n",
       "E BAYO ST                        1\n",
       "105TH 89TH AV                    1\n",
       "CAMPBELL MOUNTAIN BLVD           1\n",
       "21ST JEAN ST                     1\n",
       "Name: Location, Length: 36515, dtype: int64"
      ]
     },
     "execution_count": 8,
     "metadata": {},
     "output_type": "execute_result"
    }
   ],
   "source": [
    "data['Location'].value_counts()"
   ]
  },
  {
   "cell_type": "code",
   "execution_count": 9,
   "id": "controversial-turkey",
   "metadata": {},
   "outputs": [
    {
     "data": {
      "text/plain": [
       "P3     81629\n",
       "P1     73141\n",
       "P2     33423\n",
       "POU     3787\n",
       "PCW      595\n",
       "TEC        6\n",
       "Name: Area Id, dtype: int64"
      ]
     },
     "execution_count": 9,
     "metadata": {},
     "output_type": "execute_result"
    }
   ],
   "source": [
    "data['Area Id'].value_counts()"
   ]
  },
  {
   "cell_type": "code",
   "execution_count": 10,
   "id": "textile-sentence",
   "metadata": {},
   "outputs": [
    {
     "data": {
      "text/plain": [
       "04X     8048\n",
       "08X     6874\n",
       "30Y     5690\n",
       "19X     5564\n",
       "30X     5542\n",
       "23X     5492\n",
       "26Y     5449\n",
       "34X     5172\n",
       "06X     5056\n",
       "03X     4983\n",
       "07X     4910\n",
       "29X     4599\n",
       "31Y     4556\n",
       "25X     4409\n",
       "35X     4287\n",
       "20X     4284\n",
       "27Y     4242\n",
       "32X     3940\n",
       "27X     3899\n",
       "12Y     3868\n",
       "09X     3831\n",
       "33X     3790\n",
       "21Y     3574\n",
       "03Y     3512\n",
       "32Y     3456\n",
       "02Y     3290\n",
       "14X     3290\n",
       "22X     3207\n",
       "10Y     2937\n",
       "26X     2802\n",
       "24X     2733\n",
       "10X     2705\n",
       "28X     2579\n",
       "24Y     2558\n",
       "13Z     2555\n",
       "01X     2552\n",
       "17Y     2551\n",
       "31X     2535\n",
       "12X     2516\n",
       "02X     2515\n",
       "21X     2511\n",
       "05X     2464\n",
       "22Y     2456\n",
       "15X     2437\n",
       "35Y     2293\n",
       "11X     2186\n",
       "31Z     2127\n",
       "14Y     1920\n",
       "17X     1776\n",
       "13Y     1734\n",
       "18Y     1604\n",
       "16Y     1577\n",
       "25Y     1406\n",
       "18X     1263\n",
       "16X     1223\n",
       "13X     1117\n",
       "05Y      775\n",
       "PDT2      35\n",
       "Name: Beat, dtype: int64"
      ]
     },
     "execution_count": 10,
     "metadata": {},
     "output_type": "execute_result"
    }
   ],
   "source": [
    "data['Beat'].value_counts()"
   ]
  },
  {
   "cell_type": "code",
   "execution_count": 12,
   "id": "standard-mexican",
   "metadata": {},
   "outputs": [
    {
     "data": {
      "text/plain": [
       "2    150162\n",
       "1     42418\n",
       "0         1\n",
       "Name: Priority, dtype: int64"
      ]
     },
     "execution_count": 12,
     "metadata": {},
     "output_type": "execute_result"
    }
   ],
   "source": [
    "data['Priority'].value_counts()"
   ]
  },
  {
   "cell_type": "markdown",
   "id": "tropical-terrain",
   "metadata": {},
   "source": [
    "### 五数概括"
   ]
  },
  {
   "cell_type": "code",
   "execution_count": 13,
   "id": "czech-petite",
   "metadata": {},
   "outputs": [
    {
     "data": {
      "text/html": [
       "<div>\n",
       "<style scoped>\n",
       "    .dataframe tbody tr th:only-of-type {\n",
       "        vertical-align: middle;\n",
       "    }\n",
       "\n",
       "    .dataframe tbody tr th {\n",
       "        vertical-align: top;\n",
       "    }\n",
       "\n",
       "    .dataframe thead th {\n",
       "        text-align: right;\n",
       "    }\n",
       "</style>\n",
       "<table border=\"1\" class=\"dataframe\">\n",
       "  <thead>\n",
       "    <tr style=\"text-align: right;\">\n",
       "      <th></th>\n",
       "      <th>Priority</th>\n",
       "    </tr>\n",
       "  </thead>\n",
       "  <tbody>\n",
       "    <tr>\n",
       "      <th>count</th>\n",
       "      <td>192581.000000</td>\n",
       "    </tr>\n",
       "    <tr>\n",
       "      <th>mean</th>\n",
       "      <td>1.779729</td>\n",
       "    </tr>\n",
       "    <tr>\n",
       "      <th>std</th>\n",
       "      <td>0.414443</td>\n",
       "    </tr>\n",
       "    <tr>\n",
       "      <th>min</th>\n",
       "      <td>0.000000</td>\n",
       "    </tr>\n",
       "    <tr>\n",
       "      <th>25%</th>\n",
       "      <td>2.000000</td>\n",
       "    </tr>\n",
       "    <tr>\n",
       "      <th>50%</th>\n",
       "      <td>2.000000</td>\n",
       "    </tr>\n",
       "    <tr>\n",
       "      <th>75%</th>\n",
       "      <td>2.000000</td>\n",
       "    </tr>\n",
       "    <tr>\n",
       "      <th>max</th>\n",
       "      <td>2.000000</td>\n",
       "    </tr>\n",
       "  </tbody>\n",
       "</table>\n",
       "</div>"
      ],
      "text/plain": [
       "            Priority\n",
       "count  192581.000000\n",
       "mean        1.779729\n",
       "std         0.414443\n",
       "min         0.000000\n",
       "25%         2.000000\n",
       "50%         2.000000\n",
       "75%         2.000000\n",
       "max         2.000000"
      ]
     },
     "execution_count": 13,
     "metadata": {},
     "output_type": "execute_result"
    }
   ],
   "source": [
    "number_data = ['Priority']\n",
    "data[number_data].describe()"
   ]
  },
  {
   "cell_type": "markdown",
   "id": "jewish-biology",
   "metadata": {},
   "source": [
    "### 直方图、盒图描述"
   ]
  },
  {
   "cell_type": "code",
   "execution_count": 14,
   "id": "meaningful-hotel",
   "metadata": {},
   "outputs": [
    {
     "data": {
      "text/plain": [
       "<matplotlib.axes._subplots.AxesSubplot at 0x1175bdda0>"
      ]
     },
     "execution_count": 14,
     "metadata": {},
     "output_type": "execute_result"
    },
    {
     "data": {
      "image/png": "[encoded data removed]",
      "text/plain": [
       "<Figure size 432x288 with 1 Axes>"
      ]
     },
     "metadata": {
      "needs_background": "light"
     },
     "output_type": "display_data"
    }
   ],
   "source": [
    "data['Priority'].hist()"
   ]
  },
  {
   "cell_type": "code",
   "execution_count": 15,
   "id": "higher-selection",
   "metadata": {},
   "outputs": [
    {
     "data": {
      "image/png": "[encoded data removed]",
      "text/plain": [
       "<Figure size 432x288 with 1 Axes>"
      ]
     },
     "metadata": {
      "needs_background": "light"
     },
     "output_type": "display_data"
    }
   ],
   "source": [
    "import statsmodels.api as sm\n",
    "import pylab\n",
    "\n",
    "sm.qqplot(data['Priority'], line='s')\n",
    "pylab.show()"
   ]
  },
  {
   "cell_type": "code",
   "execution_count": 16,
   "id": "imperial-browse",
   "metadata": {},
   "outputs": [
    {
     "data": {
      "image/png": "[encoded data removed]",
      "text/plain": [
       "<Figure size 432x288 with 1 Axes>"
      ]
     },
     "metadata": {
      "needs_background": "light"
     },
     "output_type": "display_data"
    }
   ],
   "source": [
    "import matplotlib.pyplot as plt\n",
    "\n",
    "data['Priority'].plot(kind='box', notch=True, grid=True)\n",
    "plt.show()"
   ]
  },
  {
   "cell_type": "markdown",
   "id": "accessible-spouse",
   "metadata": {},
   "source": [
    "## 缺失数据处理"
   ]
  },
  {
   "cell_type": "markdown",
   "id": "buried-botswana",
   "metadata": {},
   "source": [
    "#### 首先统计缺失数据数量"
   ]
  },
  {
   "cell_type": "code",
   "execution_count": 17,
   "id": "helpful-shopping",
   "metadata": {},
   "outputs": [],
   "source": [
    "def missing_data(data):\n",
    "    total = data.isnull().sum()\n",
    "    percent = (data.isnull().sum()/data.isnull().count()*100)\n",
    "    tt = pd.concat([total, percent], axis=1, keys=['Total', 'Percent'])\n",
    "    types = []\n",
    "    for col in data.columns:\n",
    "        dtype = str(data[col].dtype)\n",
    "        types.append(dtype)\n",
    "    tt['Types'] = types\n",
    "    return(np.transpose(tt))"
   ]
  },
  {
   "cell_type": "code",
   "execution_count": 18,
   "id": "romance-lesson",
   "metadata": {},
   "outputs": [
    {
     "data": {
      "text/html": [
       "<div>\n",
       "<style scoped>\n",
       "    .dataframe tbody tr th:only-of-type {\n",
       "        vertical-align: middle;\n",
       "    }\n",
       "\n",
       "    .dataframe tbody tr th {\n",
       "        vertical-align: top;\n",
       "    }\n",
       "\n",
       "    .dataframe thead th {\n",
       "        text-align: right;\n",
       "    }\n",
       "</style>\n",
       "<table border=\"1\" class=\"dataframe\">\n",
       "  <thead>\n",
       "    <tr style=\"text-align: right;\">\n",
       "      <th></th>\n",
       "      <th>Create Time</th>\n",
       "      <th>Location</th>\n",
       "      <th>Area Id</th>\n",
       "      <th>Beat</th>\n",
       "      <th>Priority</th>\n",
       "      <th>Incident Type Id</th>\n",
       "      <th>Incident Type Description</th>\n",
       "      <th>Event Number</th>\n",
       "      <th>Closed Time</th>\n",
       "    </tr>\n",
       "  </thead>\n",
       "  <tbody>\n",
       "    <tr>\n",
       "      <th>Total</th>\n",
       "      <td>0</td>\n",
       "      <td>0</td>\n",
       "      <td>0</td>\n",
       "      <td>1325</td>\n",
       "      <td>0</td>\n",
       "      <td>0</td>\n",
       "      <td>243</td>\n",
       "      <td>0</td>\n",
       "      <td>0</td>\n",
       "    </tr>\n",
       "    <tr>\n",
       "      <th>Percent</th>\n",
       "      <td>0</td>\n",
       "      <td>0</td>\n",
       "      <td>0</td>\n",
       "      <td>0.688022</td>\n",
       "      <td>0</td>\n",
       "      <td>0</td>\n",
       "      <td>0.126181</td>\n",
       "      <td>0</td>\n",
       "      <td>0</td>\n",
       "    </tr>\n",
       "    <tr>\n",
       "      <th>Types</th>\n",
       "      <td>object</td>\n",
       "      <td>object</td>\n",
       "      <td>object</td>\n",
       "      <td>object</td>\n",
       "      <td>int64</td>\n",
       "      <td>object</td>\n",
       "      <td>object</td>\n",
       "      <td>object</td>\n",
       "      <td>object</td>\n",
       "    </tr>\n",
       "  </tbody>\n",
       "</table>\n",
       "</div>"
      ],
      "text/plain": [
       "        Create Time Location Area Id      Beat Priority Incident Type Id  \\\n",
       "Total             0        0       0      1325        0                0   \n",
       "Percent           0        0       0  0.688022        0                0   \n",
       "Types        object   object  object    object    int64           object   \n",
       "\n",
       "        Incident Type Description Event Number Closed Time  \n",
       "Total                         243            0           0  \n",
       "Percent                  0.126181            0           0  \n",
       "Types                      object       object      object  "
      ]
     },
     "execution_count": 18,
     "metadata": {},
     "output_type": "execute_result"
    }
   ],
   "source": [
    "missing_data(data)"
   ]
  },
  {
   "cell_type": "markdown",
   "id": "promotional-innocent",
   "metadata": {},
   "source": [
    "#### 直接删除缺失值数据"
   ]
  },
  {
   "cell_type": "code",
   "execution_count": 19,
   "id": "inner-damages",
   "metadata": {},
   "outputs": [],
   "source": [
    "data_del = data.dropna()"
   ]
  },
  {
   "cell_type": "code",
   "execution_count": 20,
   "id": "accepting-regulation",
   "metadata": {},
   "outputs": [
    {
     "data": {
      "text/plain": [
       "((192581, 9), (191013, 9))"
      ]
     },
     "execution_count": 20,
     "metadata": {},
     "output_type": "execute_result"
    }
   ],
   "source": [
    "data.shape,data_del.shape"
   ]
  },
  {
   "cell_type": "code",
   "execution_count": 21,
   "id": "alternative-husband",
   "metadata": {},
   "outputs": [
    {
     "data": {
      "text/html": [
       "<div>\n",
       "<style scoped>\n",
       "    .dataframe tbody tr th:only-of-type {\n",
       "        vertical-align: middle;\n",
       "    }\n",
       "\n",
       "    .dataframe tbody tr th {\n",
       "        vertical-align: top;\n",
       "    }\n",
       "\n",
       "    .dataframe thead th {\n",
       "        text-align: right;\n",
       "    }\n",
       "</style>\n",
       "<table border=\"1\" class=\"dataframe\">\n",
       "  <thead>\n",
       "    <tr style=\"text-align: right;\">\n",
       "      <th></th>\n",
       "      <th>Create Time</th>\n",
       "      <th>Location</th>\n",
       "      <th>Area Id</th>\n",
       "      <th>Beat</th>\n",
       "      <th>Priority</th>\n",
       "      <th>Incident Type Id</th>\n",
       "      <th>Incident Type Description</th>\n",
       "      <th>Event Number</th>\n",
       "      <th>Closed Time</th>\n",
       "    </tr>\n",
       "    <tr>\n",
       "      <th>Agency</th>\n",
       "      <th></th>\n",
       "      <th></th>\n",
       "      <th></th>\n",
       "      <th></th>\n",
       "      <th></th>\n",
       "      <th></th>\n",
       "      <th></th>\n",
       "      <th></th>\n",
       "      <th></th>\n",
       "    </tr>\n",
       "  </thead>\n",
       "  <tbody>\n",
       "    <tr>\n",
       "      <th>OP</th>\n",
       "      <td>2015-01-01T00:01:59.000</td>\n",
       "      <td>S ELMHURST AV</td>\n",
       "      <td>P3</td>\n",
       "      <td>31Y</td>\n",
       "      <td>2</td>\n",
       "      <td>415</td>\n",
       "      <td>DISTURBING THE PEACE</td>\n",
       "      <td>LOP150101000003</td>\n",
       "      <td>2015-01-01T06:23:08.000</td>\n",
       "    </tr>\n",
       "    <tr>\n",
       "      <th>OP</th>\n",
       "      <td>2015-01-01T00:02:02.000</td>\n",
       "      <td>AV&amp;D ST</td>\n",
       "      <td>P3</td>\n",
       "      <td>32X</td>\n",
       "      <td>2</td>\n",
       "      <td>415GS</td>\n",
       "      <td>415 GUNSHOTS</td>\n",
       "      <td>LOP150101000007</td>\n",
       "      <td>2015-01-01T01:44:40.000</td>\n",
       "    </tr>\n",
       "    <tr>\n",
       "      <th>OP</th>\n",
       "      <td>2015-01-01T00:02:06.000</td>\n",
       "      <td>BANCROFT AV</td>\n",
       "      <td>P3</td>\n",
       "      <td>30Y</td>\n",
       "      <td>2</td>\n",
       "      <td>933R</td>\n",
       "      <td>ALARM-RINGER</td>\n",
       "      <td>LOP150101000004</td>\n",
       "      <td>2015-01-01T02:12:39.000</td>\n",
       "    </tr>\n",
       "    <tr>\n",
       "      <th>OP</th>\n",
       "      <td>2015-01-01T00:03:16.000</td>\n",
       "      <td>MACARTHUR BLVD</td>\n",
       "      <td>P3</td>\n",
       "      <td>30Y</td>\n",
       "      <td>2</td>\n",
       "      <td>415GS</td>\n",
       "      <td>415 GUNSHOTS</td>\n",
       "      <td>LOP150101000005</td>\n",
       "      <td>2015-01-01T01:53:08.000</td>\n",
       "    </tr>\n",
       "    <tr>\n",
       "      <th>OP</th>\n",
       "      <td>2015-01-01T00:03:45.000</td>\n",
       "      <td>ST&amp;ADELINE ST</td>\n",
       "      <td>P1</td>\n",
       "      <td>02X</td>\n",
       "      <td>2</td>\n",
       "      <td>415GS</td>\n",
       "      <td>415 GUNSHOTS</td>\n",
       "      <td>LOP150101000009</td>\n",
       "      <td>2015-01-01T00:37:09.000</td>\n",
       "    </tr>\n",
       "  </tbody>\n",
       "</table>\n",
       "</div>"
      ],
      "text/plain": [
       "                    Create Time             Location Area Id Beat  Priority  \\\n",
       "Agency                                                                        \n",
       "OP      2015-01-01T00:01:59.000     S ELMHURST AV         P3  31Y         2   \n",
       "OP      2015-01-01T00:02:02.000          AV&D ST          P3  32X         2   \n",
       "OP      2015-01-01T00:02:06.000      BANCROFT AV          P3  30Y         2   \n",
       "OP      2015-01-01T00:03:16.000   MACARTHUR BLVD          P3  30Y         2   \n",
       "OP      2015-01-01T00:03:45.000    ST&ADELINE ST          P1  02X         2   \n",
       "\n",
       "       Incident Type Id Incident Type Description     Event Number  \\\n",
       "Agency                                                               \n",
       "OP                  415      DISTURBING THE PEACE  LOP150101000003   \n",
       "OP                415GS              415 GUNSHOTS  LOP150101000007   \n",
       "OP                 933R              ALARM-RINGER  LOP150101000004   \n",
       "OP                415GS              415 GUNSHOTS  LOP150101000005   \n",
       "OP                415GS              415 GUNSHOTS  LOP150101000009   \n",
       "\n",
       "                    Closed Time  \n",
       "Agency                           \n",
       "OP      2015-01-01T06:23:08.000  \n",
       "OP      2015-01-01T01:44:40.000  \n",
       "OP      2015-01-01T02:12:39.000  \n",
       "OP      2015-01-01T01:53:08.000  \n",
       "OP      2015-01-01T00:37:09.000  "
      ]
     },
     "execution_count": 21,
     "metadata": {},
     "output_type": "execute_result"
    }
   ],
   "source": [
    "data_del.head()"
   ]
  },
  {
   "cell_type": "markdown",
   "id": "pretty-pollution",
   "metadata": {},
   "source": [
    "#### 利用众数填充"
   ]
  },
  {
   "cell_type": "code",
   "execution_count": 22,
   "id": "clean-dominican",
   "metadata": {},
   "outputs": [
    {
     "name": "stdout",
     "output_type": "stream",
     "text": [
      "2015-04-18T13:52:06.000 <class 'str'>\n",
      " INTERNATIONAL BLVD     <class 'str'>\n",
      "P3 <class 'str'>\n",
      "04X <class 'str'>\n",
      "2 <class 'int'>\n",
      "933R <class 'str'>\n",
      "ALARM-RINGER <class 'str'>\n",
      "LOP150101000003 <class 'str'>\n",
      "2015-01-02T23:37:16.000 <class 'str'>\n"
     ]
    },
    {
     "data": {
      "text/html": [
       "<div>\n",
       "<style scoped>\n",
       "    .dataframe tbody tr th:only-of-type {\n",
       "        vertical-align: middle;\n",
       "    }\n",
       "\n",
       "    .dataframe tbody tr th {\n",
       "        vertical-align: top;\n",
       "    }\n",
       "\n",
       "    .dataframe thead th {\n",
       "        text-align: right;\n",
       "    }\n",
       "</style>\n",
       "<table border=\"1\" class=\"dataframe\">\n",
       "  <thead>\n",
       "    <tr style=\"text-align: right;\">\n",
       "      <th></th>\n",
       "      <th>Create Time</th>\n",
       "      <th>Location</th>\n",
       "      <th>Area Id</th>\n",
       "      <th>Beat</th>\n",
       "      <th>Priority</th>\n",
       "      <th>Incident Type Id</th>\n",
       "      <th>Incident Type Description</th>\n",
       "      <th>Event Number</th>\n",
       "      <th>Closed Time</th>\n",
       "    </tr>\n",
       "    <tr>\n",
       "      <th>Agency</th>\n",
       "      <th></th>\n",
       "      <th></th>\n",
       "      <th></th>\n",
       "      <th></th>\n",
       "      <th></th>\n",
       "      <th></th>\n",
       "      <th></th>\n",
       "      <th></th>\n",
       "      <th></th>\n",
       "    </tr>\n",
       "  </thead>\n",
       "  <tbody>\n",
       "    <tr>\n",
       "      <th>OP</th>\n",
       "      <td>2015-01-01T00:01:59.000</td>\n",
       "      <td>S ELMHURST AV</td>\n",
       "      <td>P3</td>\n",
       "      <td>31Y</td>\n",
       "      <td>2</td>\n",
       "      <td>415</td>\n",
       "      <td>DISTURBING THE PEACE</td>\n",
       "      <td>LOP150101000003</td>\n",
       "      <td>2015-01-01T06:23:08.000</td>\n",
       "    </tr>\n",
       "    <tr>\n",
       "      <th>OP</th>\n",
       "      <td>2015-01-01T00:02:02.000</td>\n",
       "      <td>AV&amp;D ST</td>\n",
       "      <td>P3</td>\n",
       "      <td>32X</td>\n",
       "      <td>2</td>\n",
       "      <td>415GS</td>\n",
       "      <td>415 GUNSHOTS</td>\n",
       "      <td>LOP150101000007</td>\n",
       "      <td>2015-01-01T01:44:40.000</td>\n",
       "    </tr>\n",
       "    <tr>\n",
       "      <th>OP</th>\n",
       "      <td>2015-01-01T00:02:06.000</td>\n",
       "      <td>BANCROFT AV</td>\n",
       "      <td>P3</td>\n",
       "      <td>30Y</td>\n",
       "      <td>2</td>\n",
       "      <td>933R</td>\n",
       "      <td>ALARM-RINGER</td>\n",
       "      <td>LOP150101000004</td>\n",
       "      <td>2015-01-01T02:12:39.000</td>\n",
       "    </tr>\n",
       "    <tr>\n",
       "      <th>OP</th>\n",
       "      <td>2015-01-01T00:03:16.000</td>\n",
       "      <td>MACARTHUR BLVD</td>\n",
       "      <td>P3</td>\n",
       "      <td>30Y</td>\n",
       "      <td>2</td>\n",
       "      <td>415GS</td>\n",
       "      <td>415 GUNSHOTS</td>\n",
       "      <td>LOP150101000005</td>\n",
       "      <td>2015-01-01T01:53:08.000</td>\n",
       "    </tr>\n",
       "    <tr>\n",
       "      <th>OP</th>\n",
       "      <td>2015-01-01T00:03:45.000</td>\n",
       "      <td>ST&amp;ADELINE ST</td>\n",
       "      <td>P1</td>\n",
       "      <td>02X</td>\n",
       "      <td>2</td>\n",
       "      <td>415GS</td>\n",
       "      <td>415 GUNSHOTS</td>\n",
       "      <td>LOP150101000009</td>\n",
       "      <td>2015-01-01T00:37:09.000</td>\n",
       "    </tr>\n",
       "  </tbody>\n",
       "</table>\n",
       "</div>"
      ],
      "text/plain": [
       "                    Create Time             Location Area Id Beat  Priority  \\\n",
       "Agency                                                                        \n",
       "OP      2015-01-01T00:01:59.000     S ELMHURST AV         P3  31Y         2   \n",
       "OP      2015-01-01T00:02:02.000          AV&D ST          P3  32X         2   \n",
       "OP      2015-01-01T00:02:06.000      BANCROFT AV          P3  30Y         2   \n",
       "OP      2015-01-01T00:03:16.000   MACARTHUR BLVD          P3  30Y         2   \n",
       "OP      2015-01-01T00:03:45.000    ST&ADELINE ST          P1  02X         2   \n",
       "\n",
       "       Incident Type Id Incident Type Description     Event Number  \\\n",
       "Agency                                                               \n",
       "OP                  415      DISTURBING THE PEACE  LOP150101000003   \n",
       "OP                415GS              415 GUNSHOTS  LOP150101000007   \n",
       "OP                 933R              ALARM-RINGER  LOP150101000004   \n",
       "OP                415GS              415 GUNSHOTS  LOP150101000005   \n",
       "OP                415GS              415 GUNSHOTS  LOP150101000009   \n",
       "\n",
       "                    Closed Time  \n",
       "Agency                           \n",
       "OP      2015-01-01T06:23:08.000  \n",
       "OP      2015-01-01T01:44:40.000  \n",
       "OP      2015-01-01T02:12:39.000  \n",
       "OP      2015-01-01T01:53:08.000  \n",
       "OP      2015-01-01T00:37:09.000  "
      ]
     },
     "execution_count": 22,
     "metadata": {},
     "output_type": "execute_result"
    }
   ],
   "source": [
    "from collections import Counter\n",
    "from math import isnan\n",
    "\n",
    "miss_features = ['Create Time','Location','Area Id','Beat','Priority','Incident Type Id','Incident Type Description','Event Number','Closed Time']\n",
    "\n",
    "data_fill = data\n",
    "\n",
    "for col in miss_features:\n",
    "    word_counts = Counter(data_fill[col])\n",
    "    top = word_counts.most_common(1)[0][0]\n",
    "    if type(top) != str:\n",
    "        if isnan(top):\n",
    "            top = word_counts.most_common(2)[1][0]\n",
    "    print(top, type(top))\n",
    "    temp = data_fill[col].fillna(top)\n",
    "    data_fill[col] = temp\n",
    "data_fill.head()"
   ]
  },
  {
   "cell_type": "markdown",
   "id": "transsexual-scheme",
   "metadata": {},
   "source": [
    "### 填充之后没有缺失数据了"
   ]
  },
  {
   "cell_type": "code",
   "execution_count": 23,
   "id": "nominated-ceremony",
   "metadata": {},
   "outputs": [
    {
     "data": {
      "text/html": [
       "<div>\n",
       "<style scoped>\n",
       "    .dataframe tbody tr th:only-of-type {\n",
       "        vertical-align: middle;\n",
       "    }\n",
       "\n",
       "    .dataframe tbody tr th {\n",
       "        vertical-align: top;\n",
       "    }\n",
       "\n",
       "    .dataframe thead th {\n",
       "        text-align: right;\n",
       "    }\n",
       "</style>\n",
       "<table border=\"1\" class=\"dataframe\">\n",
       "  <thead>\n",
       "    <tr style=\"text-align: right;\">\n",
       "      <th></th>\n",
       "      <th>Create Time</th>\n",
       "      <th>Location</th>\n",
       "      <th>Area Id</th>\n",
       "      <th>Beat</th>\n",
       "      <th>Priority</th>\n",
       "      <th>Incident Type Id</th>\n",
       "      <th>Incident Type Description</th>\n",
       "      <th>Event Number</th>\n",
       "      <th>Closed Time</th>\n",
       "    </tr>\n",
       "  </thead>\n",
       "  <tbody>\n",
       "    <tr>\n",
       "      <th>Total</th>\n",
       "      <td>0</td>\n",
       "      <td>0</td>\n",
       "      <td>0</td>\n",
       "      <td>0</td>\n",
       "      <td>0</td>\n",
       "      <td>0</td>\n",
       "      <td>0</td>\n",
       "      <td>0</td>\n",
       "      <td>0</td>\n",
       "    </tr>\n",
       "    <tr>\n",
       "      <th>Percent</th>\n",
       "      <td>0</td>\n",
       "      <td>0</td>\n",
       "      <td>0</td>\n",
       "      <td>0</td>\n",
       "      <td>0</td>\n",
       "      <td>0</td>\n",
       "      <td>0</td>\n",
       "      <td>0</td>\n",
       "      <td>0</td>\n",
       "    </tr>\n",
       "    <tr>\n",
       "      <th>Types</th>\n",
       "      <td>object</td>\n",
       "      <td>object</td>\n",
       "      <td>object</td>\n",
       "      <td>object</td>\n",
       "      <td>int64</td>\n",
       "      <td>object</td>\n",
       "      <td>object</td>\n",
       "      <td>object</td>\n",
       "      <td>object</td>\n",
       "    </tr>\n",
       "  </tbody>\n",
       "</table>\n",
       "</div>"
      ],
      "text/plain": [
       "        Create Time Location Area Id    Beat Priority Incident Type Id  \\\n",
       "Total             0        0       0       0        0                0   \n",
       "Percent           0        0       0       0        0                0   \n",
       "Types        object   object  object  object    int64           object   \n",
       "\n",
       "        Incident Type Description Event Number Closed Time  \n",
       "Total                           0            0           0  \n",
       "Percent                         0            0           0  \n",
       "Types                      object       object      object  "
      ]
     },
     "execution_count": 23,
     "metadata": {},
     "output_type": "execute_result"
    }
   ],
   "source": [
    "missing_data(data_fill)"
   ]
  },
  {
   "cell_type": "code",
   "execution_count": 29,
   "id": "adjusted-target",
   "metadata": {},
   "outputs": [
    {
     "data": {
      "image/png": "[encoded data removed]",
      "text/plain": [
       "<Figure size 432x288 with 1 Axes>"
      ]
     },
     "metadata": {
      "needs_background": "light"
     },
     "output_type": "display_data"
    },
    {
     "data": {
      "image/png": "[encoded data removed]",
      "text/plain": [
       "<Figure size 432x288 with 1 Axes>"
      ]
     },
     "metadata": {
      "needs_background": "light"
     },
     "output_type": "display_data"
    },
    {
     "data": {
      "text/plain": [
       "<matplotlib.axes._subplots.AxesSubplot at 0x129c3bba8>"
      ]
     },
     "execution_count": 29,
     "metadata": {},
     "output_type": "execute_result"
    },
    {
     "data": {
      "image/png": "[encoded data removed]",
      "text/plain": [
       "<Figure size 432x288 with 1 Axes>"
      ]
     },
     "metadata": {
      "needs_background": "light"
     },
     "output_type": "display_data"
    }
   ],
   "source": [
    "sm.qqplot(data_fill['Priority'], line='s')\n",
    "pylab.show()\n",
    "data_fill['Priority'].plot(kind='box', notch=True, grid=True)\n",
    "plt.show()\n",
    "data_fill['Priority'].hist()"
   ]
  },
  {
   "cell_type": "markdown",
   "id": "expressed-attribute",
   "metadata": {},
   "source": [
    "### 使用属性相关关系填充"
   ]
  },
  {
   "cell_type": "code",
   "execution_count": 24,
   "id": "mysterious-fitting",
   "metadata": {},
   "outputs": [
    {
     "data": {
      "text/html": [
       "<div>\n",
       "<style scoped>\n",
       "    .dataframe tbody tr th:only-of-type {\n",
       "        vertical-align: middle;\n",
       "    }\n",
       "\n",
       "    .dataframe tbody tr th {\n",
       "        vertical-align: top;\n",
       "    }\n",
       "\n",
       "    .dataframe thead th {\n",
       "        text-align: right;\n",
       "    }\n",
       "</style>\n",
       "<table border=\"1\" class=\"dataframe\">\n",
       "  <thead>\n",
       "    <tr style=\"text-align: right;\">\n",
       "      <th></th>\n",
       "      <th>Priority</th>\n",
       "    </tr>\n",
       "  </thead>\n",
       "  <tbody>\n",
       "    <tr>\n",
       "      <th>Priority</th>\n",
       "      <td>1.0</td>\n",
       "    </tr>\n",
       "  </tbody>\n",
       "</table>\n",
       "</div>"
      ],
      "text/plain": [
       "          Priority\n",
       "Priority       1.0"
      ]
     },
     "execution_count": 24,
     "metadata": {},
     "output_type": "execute_result"
    }
   ],
   "source": [
    "data.corr()"
   ]
  },
  {
   "cell_type": "code",
   "execution_count": 25,
   "id": "young-compact",
   "metadata": {},
   "outputs": [
    {
     "data": {
      "text/html": [
       "<div>\n",
       "<style scoped>\n",
       "    .dataframe tbody tr th:only-of-type {\n",
       "        vertical-align: middle;\n",
       "    }\n",
       "\n",
       "    .dataframe tbody tr th {\n",
       "        vertical-align: top;\n",
       "    }\n",
       "\n",
       "    .dataframe thead th {\n",
       "        text-align: right;\n",
       "    }\n",
       "</style>\n",
       "<table border=\"1\" class=\"dataframe\">\n",
       "  <thead>\n",
       "    <tr style=\"text-align: right;\">\n",
       "      <th></th>\n",
       "      <th>Priority</th>\n",
       "    </tr>\n",
       "  </thead>\n",
       "  <tbody>\n",
       "    <tr>\n",
       "      <th>Priority</th>\n",
       "      <td>1.0</td>\n",
       "    </tr>\n",
       "  </tbody>\n",
       "</table>\n",
       "</div>"
      ],
      "text/plain": [
       "          Priority\n",
       "Priority       1.0"
      ]
     },
     "execution_count": 25,
     "metadata": {},
     "output_type": "execute_result"
    }
   ],
   "source": [
    "data.corr('spearman')"
   ]
  },
  {
   "cell_type": "code",
   "execution_count": 26,
   "id": "dutch-occupation",
   "metadata": {},
   "outputs": [
    {
     "data": {
      "text/html": [
       "<div>\n",
       "<style scoped>\n",
       "    .dataframe tbody tr th:only-of-type {\n",
       "        vertical-align: middle;\n",
       "    }\n",
       "\n",
       "    .dataframe tbody tr th {\n",
       "        vertical-align: top;\n",
       "    }\n",
       "\n",
       "    .dataframe thead th {\n",
       "        text-align: right;\n",
       "    }\n",
       "</style>\n",
       "<table border=\"1\" class=\"dataframe\">\n",
       "  <thead>\n",
       "    <tr style=\"text-align: right;\">\n",
       "      <th></th>\n",
       "      <th>Priority</th>\n",
       "    </tr>\n",
       "  </thead>\n",
       "  <tbody>\n",
       "    <tr>\n",
       "      <th>Priority</th>\n",
       "      <td>1.0</td>\n",
       "    </tr>\n",
       "  </tbody>\n",
       "</table>\n",
       "</div>"
      ],
      "text/plain": [
       "          Priority\n",
       "Priority       1.0"
      ]
     },
     "execution_count": 26,
     "metadata": {},
     "output_type": "execute_result"
    }
   ],
   "source": [
    "data.corr('kendall')"
   ]
  }
 ],
 "metadata": {
  "kernelspec": {
   "display_name": "Python 3",
   "language": "python",
   "name": "python3"
  },
  "language_info": {
   "codemirror_mode": {
    "name": "ipython",
    "version": 3
   },
   "file_extension": ".py",
   "mimetype": "text/x-python",
   "name": "python",
   "nbconvert_exporter": "python",
   "pygments_lexer": "ipython3",
   "version": "3.7.0"
  }
 },
 "nbformat": 4,
 "nbformat_minor": 5
}
